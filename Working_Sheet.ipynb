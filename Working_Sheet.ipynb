{
 "cells": [
  {
   "cell_type": "code",
   "execution_count": 1,
   "metadata": {},
   "outputs": [],
   "source": [
    "import torch\n",
    "import torch.nn as nn"
   ]
  },
  {
   "cell_type": "code",
   "execution_count": 61,
   "metadata": {},
   "outputs": [
    {
     "name": "stdout",
     "output_type": "stream",
     "text": [
      "Collecting torchsummary\n",
      "  Downloading https://files.pythonhosted.org/packages/7d/18/1474d06f721b86e6a9b9d7392ad68bed711a02f3b61ac43f13c719db50a6/torchsummary-1.5.1-py3-none-any.whl\n",
      "Installing collected packages: torchsummary\n",
      "Successfully installed torchsummary-1.5.1\n",
      "Note: you may need to restart the kernel to use updated packages.\n"
     ]
    }
   ],
   "source": [
    "pip install torchsummary"
   ]
  },
  {
   "cell_type": "code",
   "execution_count": 5,
   "metadata": {},
   "outputs": [
    {
     "ename": "SyntaxError",
     "evalue": "invalid syntax (<ipython-input-5-d030bc1b9a38>, line 24)",
     "output_type": "error",
     "traceback": [
      "\u001b[0;36m  File \u001b[0;32m\"<ipython-input-5-d030bc1b9a38>\"\u001b[0;36m, line \u001b[0;32m24\u001b[0m\n\u001b[0;31m    def forward(self, in):\u001b[0m\n\u001b[0m                       ^\u001b[0m\n\u001b[0;31mSyntaxError\u001b[0m\u001b[0;31m:\u001b[0m invalid syntax\n"
     ]
    }
   ],
   "source": [
    "# Get the padding size to make it same padding\n",
    "class PaddedConv2d(nn.Module):\n",
    "\n",
    "    def __init__(self, conv2d, pad2d_type):\n",
    "            \"\"\"\n",
    "            Parameters\n",
    "            ---\n",
    "\n",
    "            * conv2d : torch.nn.Conv2d\n",
    "                a convolutional layer used in this PaddedConv2d\n",
    "\n",
    "            * pad2d_type : type\n",
    "                a padding layer from torch.nn. I don't want the\n",
    "                instance itself since it needs the padding size to be created;\n",
    "                instead, I want the callable which returns an instance of \n",
    "                a padding layer, which will be created on the fly during the \n",
    "                \"forward\" pass.\n",
    "            \"\"\"\n",
    "\n",
    "            super().__init__(self)\n",
    "            self.conv2d = conv2d\n",
    "            self.pad2d_type = pad2d_type\n",
    "\n",
    "    def forward(self, in):\n",
    "        \"\"\"\n",
    "        Parameters\n",
    "        ---\n",
    "        * in : torch.Tensor\n",
    "             the input tensor to be padded and then convolved. Shape (batch_size, channels, rows, cols)\n",
    "        \"\"\"\n",
    "        # computing padding size:\n",
    "        pad_h = torch.ceil((self.conv2d.kernel[0] - in.shape[2] * (1 - self.conv2d.stride[0]) - self.conv2d.stride[0]) / 2)\n",
    "        pad_w = torch.ceil((self.conv2d.kernel[1] - in.shape[3] * (1 - self.conv2d.stride[1]) - self.conv2d.stride[1]) / 2)\n",
    "        padder = self.pad2d_type((pad_w, pad_w, pad_h, pad_h))\n",
    "        return self.conv2d(padder(in))"
   ]
  },
  {
   "cell_type": "code",
   "execution_count": 13,
   "metadata": {},
   "outputs": [
    {
     "name": "stdout",
     "output_type": "stream",
     "text": [
      "512\n"
     ]
    }
   ],
   "source": [
    "# Calculate manually the padding layer\n",
    "#ks = 7 , stride =1\n",
    "# formula for same padding with stride 1 is p = (k-1)/2 , here = (7-1)/2 = 3\n",
    "n = 512\n",
    "pad = 3\n",
    "stride = 1\n",
    "ks = 7\n",
    "out  = (n + 2*pad - ks) // stride + 1\n",
    "print(out)"
   ]
  },
  {
   "cell_type": "code",
   "execution_count": 22,
   "metadata": {},
   "outputs": [
    {
     "name": "stdout",
     "output_type": "stream",
     "text": [
      "256\n"
     ]
    }
   ],
   "source": [
    "# Calculate manually the padding layer\n",
    "#ks = 3 , stride =1\n",
    "# formula for same padding with stride 1 is p = (k-1)/2 , here = (3-1)/2 = 1\n",
    "n = 256\n",
    "pad = 1\n",
    "stride = 1\n",
    "ks = 3\n",
    "out  = (n + 2*pad - ks) // stride + 1\n",
    "print(out)"
   ]
  },
  {
   "cell_type": "code",
   "execution_count": 28,
   "metadata": {},
   "outputs": [
    {
     "name": "stdout",
     "output_type": "stream",
     "text": [
      "256\n"
     ]
    }
   ],
   "source": [
    "# Calculate manually the padding layer\n",
    "#ks = 3 , stride =2\n",
    "n = 512\n",
    "pad = 1\n",
    "stride = 2\n",
    "ks = 3\n",
    "out  = (n + 2*pad - ks) // stride + 1\n",
    "print(out)"
   ]
  },
  {
   "cell_type": "code",
   "execution_count": 15,
   "metadata": {},
   "outputs": [],
   "source": [
    "# Batch Norm Examples::\n",
    "# With Learnable Parameters\n",
    "# Number of channel - here it is 100/ it is also referred as number of filter\n",
    "m = nn.BatchNorm2d(100)\n",
    "# Without Learnable Parameters\n",
    "#m = nn.BatchNorm2d(100, affine=False)\n",
    "input = torch.randn(20, 100, 35, 45)\n",
    "output = m(input)"
   ]
  },
  {
   "cell_type": "code",
   "execution_count": 17,
   "metadata": {},
   "outputs": [
    {
     "data": {
      "text/plain": [
       "torch.Size([20, 100, 35, 45])"
      ]
     },
     "execution_count": 17,
     "metadata": {},
     "output_type": "execute_result"
    }
   ],
   "source": [
    "output.shape"
   ]
  },
  {
   "cell_type": "code",
   "execution_count": 53,
   "metadata": {},
   "outputs": [],
   "source": [
    "# Image alteration\n",
    "import numpy as np \n",
    "rotsd=[0.0, 5.0]\n",
    "scalesd=[0.0, 0.1]\n",
    "transsd=[0.1, 0.1]\n",
    "warpsd=[0.001, 0.005, 0.001, 0.01]\n",
    "Hc = 64\n",
    "Wc =64\n",
    "def sample_tps_w(Hc, Wc, warpsd, rotsd, scalesd, transsd):\n",
    "  \"\"\"\n",
    "  Returns randomly sampled TPS-grid params of size (Hc*Wc+3)x2.\n",
    "\n",
    "  Params:\n",
    "    WARPSD: 2-tuple\n",
    "    {ROT/SCALE/TRANS}-SD: 1-tuple of standard devs.\n",
    "  \"\"\"\n",
    "  Nc = Hc * Wc  # no of control-pots\n",
    "  # non-linear component:\n",
    "  mask = (np.random.rand(Nc, 2) > 0.5).astype(np.float32)\n",
    "  W = warpsd[0] * np.random.randn(Nc, 2) + \\\n",
    "      warpsd[1] * (mask * np.random.randn(Nc, 2))\n",
    "  # affine component:\n",
    "  rnd = np.random.randn\n",
    "  rot = np.deg2rad(rnd() * rotsd)\n",
    "  sc = 1.0 + rnd() * scalesd\n",
    "  aff = [[transsd*rnd(),      transsd*rnd()],\n",
    "         [sc * np.cos(rot),   sc * -np.sin(rot)],\n",
    "         [sc * np.sin(rot),   sc * np.cos(rot)]]\n",
    "  W = np.r_[W, aff]\n",
    "  return W"
   ]
  },
  {
   "cell_type": "code",
   "execution_count": 55,
   "metadata": {},
   "outputs": [],
   "source": [
    "W = sample_tps_w(Hc, Wc, warpsd, rotsd, scalesd, transsd)"
   ]
  },
  {
   "cell_type": "code",
   "execution_count": 58,
   "metadata": {},
   "outputs": [
    {
     "data": {
      "text/plain": [
       "4096"
      ]
     },
     "execution_count": 58,
     "metadata": {},
     "output_type": "execute_result"
    }
   ],
   "source": [
    "64*64"
   ]
  },
  {
   "cell_type": "code",
   "execution_count": 57,
   "metadata": {},
   "outputs": [
    {
     "data": {
      "text/plain": [
       "(4099, 2)"
      ]
     },
     "execution_count": 57,
     "metadata": {},
     "output_type": "execute_result"
    }
   ],
   "source": [
    "W.shape"
   ]
  },
  {
   "cell_type": "code",
   "execution_count": 46,
   "metadata": {},
   "outputs": [],
   "source": [
    "rnd = np.random.randint(100)"
   ]
  },
  {
   "cell_type": "code",
   "execution_count": 47,
   "metadata": {},
   "outputs": [
    {
     "data": {
      "text/plain": [
       "32"
      ]
     },
     "execution_count": 47,
     "metadata": {},
     "output_type": "execute_result"
    }
   ],
   "source": [
    "rnd"
   ]
  },
  {
   "cell_type": "code",
   "execution_count": 34,
   "metadata": {},
   "outputs": [
    {
     "ename": "TypeError",
     "evalue": "can't multiply sequence by non-int of type 'float'",
     "output_type": "error",
     "traceback": [
      "\u001b[0;31m---------------------------------------------------------------------------\u001b[0m",
      "\u001b[0;31mTypeError\u001b[0m                                 Traceback (most recent call last)",
      "\u001b[0;32m<ipython-input-34-769842c5e965>\u001b[0m in \u001b[0;36m<module>\u001b[0;34m\u001b[0m\n\u001b[0;32m----> 1\u001b[0;31m \u001b[0mrnd\u001b[0m\u001b[0;34m(\u001b[0m\u001b[0;34m)\u001b[0m\u001b[0;34m*\u001b[0m\u001b[0mrotsd\u001b[0m\u001b[0;34m\u001b[0m\u001b[0;34m\u001b[0m\u001b[0m\n\u001b[0m",
      "\u001b[0;31mTypeError\u001b[0m: can't multiply sequence by non-int of type 'float'"
     ]
    }
   ],
   "source": [
    "rnd()*rotsd"
   ]
  },
  {
   "cell_type": "code",
   "execution_count": 54,
   "metadata": {},
   "outputs": [],
   "source": [
    "vertical_points=10\n",
    "horizontal_points=10\n",
    "rotsd=0.0\n",
    "scalesd=0.0\n",
    "transsd=0.1\n",
    "warpsd=(0.001, 0.005)\n"
   ]
  },
  {
   "cell_type": "code",
   "execution_count": null,
   "metadata": {},
   "outputs": [],
   "source": []
  }
 ],
 "metadata": {
  "kernelspec": {
   "display_name": "Python 3",
   "language": "python",
   "name": "python3"
  },
  "language_info": {
   "codemirror_mode": {
    "name": "ipython",
    "version": 3
   },
   "file_extension": ".py",
   "mimetype": "text/x-python",
   "name": "python",
   "nbconvert_exporter": "python",
   "pygments_lexer": "ipython3",
   "version": "3.7.3"
  }
 },
 "nbformat": 4,
 "nbformat_minor": 2
}
